{
  "nbformat": 4,
  "nbformat_minor": 0,
  "metadata": {
    "colab": {
      "provenance": [],
      "authorship_tag": "ABX9TyNQvbDpF1QpsXU6fchgtWbS",
      "include_colab_link": true
    },
    "kernelspec": {
      "name": "python3",
      "display_name": "Python 3"
    },
    "language_info": {
      "name": "python"
    }
  },
  "cells": [
    {
      "cell_type": "markdown",
      "metadata": {
        "id": "view-in-github",
        "colab_type": "text"
      },
      "source": [
        "<a href=\"https://colab.research.google.com/github/yngkyng/first_project-1/blob/master/5_5_%EC%84%9C%EC%9A%B8%EA%B2%BD%EC%B0%B0%EC%84%9C_%EC%A7%80%EB%8F%84%ED%91%9C%EC%8B%9C.ipynb\" target=\"_parent\"><img src=\"https://colab.research.google.com/assets/colab-badge.svg\" alt=\"Open In Colab\"/></a>"
      ]
    },
    {
      "cell_type": "code",
      "execution_count": 1,
      "metadata": {
        "id": "BK9xg5M52unQ"
      },
      "outputs": [],
      "source": [
        "!pip install Selenium > /dev/null 2>&1\n",
        "!apt-get update > /dev/null 2>&1\n",
        "!apt install chromium-chromedriver > /dev/null 2>&1"
      ]
    },
    {
      "cell_type": "code",
      "source": [
        "import requests\n",
        "from bs4 import BeautifulSoup\n",
        "import pandas as pd\n",
        "import time\n",
        "from selenium import webdriver\n",
        "from selenium.webdriver.common.keys import Keys\n",
        "from selenium.webdriver.common.by import By\n",
        "from tqdm.notebook import tqdm\n",
        "import math"
      ],
      "metadata": {
        "id": "ssrAkz1LGxF7"
      },
      "execution_count": 2,
      "outputs": []
    },
    {
      "cell_type": "code",
      "source": [
        "chrome_options = webdriver.ChromeOptions()             # 웹 드라이버 옵션 지정\n",
        "chrome_options.add_argument('--headless')              # 웹 브라우저 띄우지 않음\n",
        "chrome_options.add_argument('--no-sandbox')            # 별도 웹페이지 작동 해제\n",
        "chrome_options.add_argument('--disable-dev-shm-usage') # 공유 안함\n",
        "chrome_options.add_argument('--single-process')"
      ],
      "metadata": {
        "id": "-uo86h1IGzOW"
      },
      "execution_count": 3,
      "outputs": []
    },
    {
      "cell_type": "markdown",
      "source": [
        "#서울지역 경찰서 정보 추출"
      ],
      "metadata": {
        "id": "Zinb_MVcG3XJ"
      }
    },
    {
      "cell_type": "code",
      "source": [
        "driver = webdriver.Chrome('chromedriver', options=chrome_options) # 웹 드리이버 객체 생성\n",
        "url = 'https://www.police.go.kr/user/bbs/BD_selectBbsList.do?q_bbsCode=1038&q_tab=1'  \n",
        "driver.get(url)\n",
        "time.sleep(3)\n",
        "\n",
        "#정보 추출하기\n",
        "soup = BeautifulSoup(driver.page_source, 'html.parser')\n",
        "trs = soup.select('.table tr')\n",
        "    #trs = driver.find_elements(By. CSS_SELECTOR, '.table tr')\n",
        "lines=[]\n",
        "for tr in trs:\n",
        "    try:\n",
        "        title = tr.select('.show-col1')[0].text.strip()\n",
        "        address = tr.select('.show-col1')[1].text.strip()\n",
        "    except:\n",
        "        continue\n",
        "    lines.append([title, address])\n",
        "\n",
        "df= pd.DataFrame(lines, columns=['title','address'])\n",
        "df.head()"
      ],
      "metadata": {
        "id": "PafHt3ByG0sV"
      },
      "execution_count": null,
      "outputs": []
    },
    {
      "cell_type": "code",
      "source": [
        "df.to_csv('서울 경찰서 정보.csv', index=False)"
      ],
      "metadata": {
        "id": "ODNpP5JDNKQi"
      },
      "execution_count": null,
      "outputs": []
    },
    {
      "cell_type": "markdown",
      "source": [
        "#카카오API로 위도경도 추가"
      ],
      "metadata": {
        "id": "LwOCOFpXNOZS"
      }
    },
    {
      "cell_type": "code",
      "source": [
        "from google.colab import files\n",
        "uploaded = files.upload()\n",
        "filename = list(uploaded.keys())[0]\n",
        "filename"
      ],
      "metadata": {
        "id": "EQHO1hMqNRZu"
      },
      "execution_count": null,
      "outputs": []
    },
    {
      "cell_type": "code",
      "source": [
        "with open(filename) as f:\n",
        "    api_key = f.read()\n",
        "\n",
        "import requests\n",
        "from urllib.parse import quote"
      ],
      "metadata": {
        "id": "P9DBQTXdNSrw"
      },
      "execution_count": null,
      "outputs": []
    },
    {
      "cell_type": "code",
      "source": [
        "df = pd.read_csv('/content/서울 경찰서 정보.csv')"
      ],
      "metadata": {
        "id": "Rv7-v7bkNW2t"
      },
      "execution_count": null,
      "outputs": []
    },
    {
      "cell_type": "code",
      "source": [
        "lng_list = []\n",
        "lat_list = []\n",
        "\n",
        "for i in df.index:\n",
        "    addr = df.address[i]\n",
        "    search_url = 'https://dapi.kakao.com/v2/local/search/address.json'\n",
        "    url = f'{search_url}?query={quote(addr)}'\n",
        "    result = requests.get(url, headers={'Authorization': f'KakaoAK {api_key}'}).json()\n",
        "    try:\n",
        "        lng = float(result['documents'][0]['address']['x'])\n",
        "        lat = float(result['documents'][0]['address']['y'])\n",
        "    except:\n",
        "        print(df.title[i])\n",
        "    lng_list.append(lng)\n",
        "    lat_list.append(lat)"
      ],
      "metadata": {
        "id": "9uspBRlSNXLj"
      },
      "execution_count": null,
      "outputs": []
    },
    {
      "cell_type": "code",
      "source": [
        "df['위도'] = lat_list\n",
        "df['경도'] = lng_list\n",
        "\n",
        "#df.drop(df[df['title']=='은평소방서-수색-119 안전센터'].index, inplace=True)\n",
        "\n",
        "df.to_csv('서울경찰서.csv', index=False)"
      ],
      "metadata": {
        "id": "7aZnGEISNZah"
      },
      "execution_count": null,
      "outputs": []
    },
    {
      "cell_type": "markdown",
      "source": [
        "#시각화"
      ],
      "metadata": {
        "id": "CaFFPWlDNcwi"
      }
    },
    {
      "cell_type": "code",
      "source": [
        "import folium"
      ],
      "metadata": {
        "id": "E_DpvJWZNbVv"
      },
      "execution_count": null,
      "outputs": []
    },
    {
      "cell_type": "code",
      "source": [
        "seoul_map = folium.Map(location=[37.55, 126.98], zoom_start=12)\n",
        "df= pd.read_csv('/content/서울경찰서.csv')\n",
        "for i, lat, lng in zip(df.index, df.위도, df.경도):\n",
        "    folium.Marker([lat,lng], \n",
        "                  popup= folium.Popup(f'{df.title[i]} / {df.address[i]}', max_width=200),\n",
        "                  tooltip= df.title[i]\n",
        "                  ).add_to(seoul_map)\n",
        "title = '<h3 align=\"center\" style=\"font-size:20px; font-weight:bold\">서울 소재 경찰서 위치</h3>'\n",
        "seoul_map.get_root().html.add_child(folium.Element(title))\n",
        "seoul_map"
      ],
      "metadata": {
        "id": "HpZWerPINeRr"
      },
      "execution_count": null,
      "outputs": []
    }
  ]
}